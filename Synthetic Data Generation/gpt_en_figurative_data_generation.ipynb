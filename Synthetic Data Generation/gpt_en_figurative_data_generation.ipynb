{
 "cells": [
  {
   "cell_type": "code",
   "execution_count": null,
   "metadata": {},
   "outputs": [],
   "source": [
    "import pandas as pd\n",
    "from openai import OpenAI\n",
    "import random\n",
    "import os\n",
    "import re"
   ]
  },
  {
   "cell_type": "code",
   "execution_count": null,
   "metadata": {},
   "outputs": [],
   "source": [
    "category = \"figurative\"\n",
    "idiom = \"make hit\"\n",
    "model =\"gpt-4-turbo\"\n",
    "\n",
    "client = OpenAI(\n",
    "    # defaults to os.environ.get(\"OPENAI_API_KEY\")\n",
    "    api_key=\"OpenAI Key\",\n",
    ")"
   ]
  },
  {
   "cell_type": "code",
   "execution_count": null,
   "metadata": {},
   "outputs": [],
   "source": [
    "if not os.path.exists('response_data.csv'):\n",
    "    pd.DataFrame(columns=[\"raw_response\",\"category\", \"idiom\", \"type\"]).to_csv('response_data.csv', index=False)"
   ]
  },
  {
   "cell_type": "code",
   "execution_count": null,
   "metadata": {},
   "outputs": [],
   "source": [
    "df_structured = pd.DataFrame(columns=[\"submission\", \"category\", \"idiom\", \"type\"])"
   ]
  },
  {
   "cell_type": "markdown",
   "metadata": {},
   "source": [
    "**Zero-Shot**"
   ]
  },
  {
   "cell_type": "code",
   "execution_count": null,
   "metadata": {},
   "outputs": [],
   "source": [
    "class ChatSession:\n",
    "    def __init__(self, category, model=model):\n",
    "        self.model = model\n",
    "        system_message = f\"Since English is your native language, you should use our language in rich and creative ways. Please avoid using similar structures in your sentences and craft sentences by using idioms correctly and with their {category} meanings. You should also avoid constructing sentences using personal names!\"\n",
    "        print(system_message)\n",
    "        self.messages = [\n",
    "            {\"role\": \"system\", \"content\": system_message}\n",
    "        ]\n",
    "\n",
    "    def get_completion(self, user_prompt):\n",
    "        # Add the new user message\n",
    "        self.messages.append({\"role\": \"user\", \"content\": user_prompt})\n",
    "        \n",
    "        # Make the API call\n",
    "        response = client.chat.completions.create(\n",
    "            model=self.model,\n",
    "            messages=self.messages,\n",
    "        )\n",
    "\n",
    "        # Retrieve the response and append to messages to maintain context\n",
    "        ai_response = response.choices[0].message.content.strip()\n",
    "        self.messages.append({\"role\": \"assistant\", \"content\": ai_response})\n",
    "        response_df = pd.DataFrame(columns=[\"raw_response\", \"idiom\",\"type\",\"category\"])\n",
    "        new_entry = {\n",
    "            \"raw_response\": ai_response,\n",
    "            \"idiom\": idiom,\n",
    "            \"type\": type,\n",
    "            \"category\":category\n",
    "        }\n",
    "        response_df = pd.concat([response_df, pd.DataFrame([new_entry])], ignore_index=True)\n",
    "        response_df.to_csv('response_data.csv', mode='a', header=False, index=False)\n",
    "        return ai_response"
   ]
  },
  {
   "cell_type": "code",
   "execution_count": null,
   "metadata": {},
   "outputs": [],
   "source": [
    "chat_session = ChatSession(category=category)"
   ]
  },
  {
   "cell_type": "code",
   "execution_count": null,
   "metadata": {},
   "outputs": [],
   "source": [
    "type = \"Zero-shot\"\n",
    "step = 12"
   ]
  },
  {
   "cell_type": "code",
   "execution_count": null,
   "metadata": {},
   "outputs": [],
   "source": [
    "prompt = f\"\"\"\n",
    "\"{idiom}\" is an English idiom. We can use this idiom in both literal and figurative senses. Please write five example sentences using this idiom in the {category} sense. In your response, return only the sentences.\n",
    "\"\"\"\n",
    "print(prompt)\n",
    "print(\"\\n\")\n",
    "responses = []\n",
    "for i in range(step):\n",
    "    result = chat_session.get_completion(prompt)\n",
    "    responses.append(result)"
   ]
  },
  {
   "cell_type": "code",
   "execution_count": null,
   "metadata": {},
   "outputs": [],
   "source": [
    "responses"
   ]
  },
  {
   "cell_type": "code",
   "execution_count": null,
   "metadata": {},
   "outputs": [],
   "source": [
    "def parse_and_structure_data(raw_responses_list, idiom, category, response_type):\n",
    "    # Initialize the list to store structured data\n",
    "    structured_data = []\n",
    "    # Iterate through each block of responses\n",
    "    for block in raw_responses_list:\n",
    "        # Split each block into individual sentences\n",
    "        sentences = block.split('\\n')\n",
    "        # Remove the numbering from each sentence and strip leading/trailing whitespace\n",
    "        clean_sentences = [sentence.split('. ', 1)[-1].strip() for sentence in sentences]\n",
    "        # For each sentence, append a tuple with the structured data\n",
    "        for sentence in clean_sentences:\n",
    "            structured_data.append((sentence, category, idiom, response_type))\n",
    "    return structured_data"
   ]
  },
  {
   "cell_type": "code",
   "execution_count": null,
   "metadata": {},
   "outputs": [],
   "source": [
    "structured_data = parse_and_structure_data(responses, idiom, category, type)\n",
    "\n",
    "new_df= pd.DataFrame(structured_data, columns=[\"submission\", \"category\", \"idiom\", \"type\"])\n",
    "new_df"
   ]
  },
  {
   "cell_type": "code",
   "execution_count": null,
   "metadata": {},
   "outputs": [],
   "source": [
    "new_df = new_df[new_df['submission']!=\"\"]\n",
    "new_df.reset_index(drop=True,inplace=True)\n",
    "new_df\n"
   ]
  },
  {
   "cell_type": "code",
   "execution_count": null,
   "metadata": {},
   "outputs": [],
   "source": [
    "df_structured = pd.concat([df_structured, new_df], ignore_index=True)\n",
    "df_structured"
   ]
  },
  {
   "cell_type": "code",
   "execution_count": null,
   "metadata": {},
   "outputs": [],
   "source": [
    "df_structured"
   ]
  },
  {
   "cell_type": "markdown",
   "metadata": {},
   "source": [
    "**Enhanced-prompting**"
   ]
  },
  {
   "cell_type": "code",
   "execution_count": null,
   "metadata": {},
   "outputs": [],
   "source": [
    "class ChatSession:\n",
    "    def __init__(self, category, model=model):\n",
    "        self.model = model\n",
    "        system_message = f\"Since English is your native language, you should use our language in rich and creative ways. Please respond carefully according to the specified request, without altering the root words of the idiom. Also, you should not make sentences using personal names!\"\n",
    "        print(system_message)\n",
    "        self.messages = [\n",
    "            {\"role\": \"system\", \"content\": system_message}\n",
    "        ]\n",
    "\n",
    "    def get_completion(self, user_prompt):\n",
    "        # Add the new user message\n",
    "        self.messages.append({\"role\": \"user\", \"content\": user_prompt})\n",
    "        \n",
    "        # Make the API call\n",
    "        response = client.chat.completions.create(\n",
    "            model=self.model,\n",
    "            messages=self.messages,\n",
    "        )\n",
    "\n",
    "        # Retrieve the response and append to messages to maintain context\n",
    "        ai_response = response.choices[0].message.content.strip()\n",
    "        self.messages.append({\"role\": \"assistant\", \"content\": ai_response})\n",
    "        response_df = pd.DataFrame(columns=[\"raw_response\", \"idiom\",\"type\",\"category\"])\n",
    "        new_entry = {\n",
    "            \"raw_response\": ai_response,\n",
    "            \"idiom\": idiom,\n",
    "            \"type\": type,\n",
    "            \"category\":category\n",
    "        }\n",
    "        response_df = pd.concat([response_df, pd.DataFrame([new_entry])], ignore_index=True)\n",
    "        response_df.to_csv('response_data.csv', mode='a', header=False, index=False)\n",
    "        return ai_response\n",
    "\n",
    "\n",
    "prompt = f\"\"\"\n",
    "The idiom 'break the ice' can be used in various educational situations, such as starting a new school year, introducing a new topic, engaging shy students, encouraging group discussions, or welcoming new students to the class. Similarly, can you list the situations where the idiom '{idiom}' is used in a {category} sense?\n",
    "\"\"\""
   ]
  },
  {
   "cell_type": "code",
   "execution_count": null,
   "metadata": {},
   "outputs": [],
   "source": [
    "chat_session = ChatSession(category=category)"
   ]
  },
  {
   "cell_type": "code",
   "execution_count": null,
   "metadata": {},
   "outputs": [],
   "source": [
    "type = \"Enhanced-prompting\"\n",
    "step = 1"
   ]
  },
  {
   "cell_type": "code",
   "execution_count": null,
   "metadata": {},
   "outputs": [],
   "source": [
    "print(prompt)\n",
    "print(\"\\n\")\n",
    "\n",
    "for i in range(step):\n",
    "    result = chat_session.get_completion(prompt)\n",
    "    print(result)"
   ]
  },
  {
   "cell_type": "code",
   "execution_count": null,
   "metadata": {},
   "outputs": [],
   "source": [
    "prompt = f\"\"\"\n",
    "For each of the scenarios listed in the previous message where the idiom '{idiom}' is used in the {category} sense, create four different sentences. The first sentence should be long and detailed, the second in the form of a question, the third in a negative construction, and the fourth should have other words interspersed among the words that make up the idiom. Please do not alter the root words of the idiom. You should create four different sentences for each category. Return only these sentences in your response.\n",
    "\"\"\""
   ]
  },
  {
   "cell_type": "code",
   "execution_count": null,
   "metadata": {},
   "outputs": [],
   "source": [
    "print(prompt)\n",
    "responses = []\n",
    "for i in range(step):\n",
    "    result = chat_session.get_completion(prompt)\n",
    "    responses.append(result)"
   ]
  },
  {
   "cell_type": "code",
   "execution_count": null,
   "metadata": {},
   "outputs": [],
   "source": [
    "responses"
   ]
  },
  {
   "cell_type": "code",
   "execution_count": null,
   "metadata": {},
   "outputs": [],
   "source": [
    "def parse_and_structure_data(raw_responses_list, idiom, category, response_type):\n",
    "    structured_data = []\n",
    "    # Iterate through each block of responses\n",
    "    for block in raw_responses_list:\n",
    "        # Split each block into individual lines\n",
    "        lines = block.split('\\n')\n",
    "        # Skip the header line (assumes the header is the first line)\n",
    "        for line in lines[1:]:  # this skips the header which is lines[0]\n",
    "            # Check if the line contains an actual sentence\n",
    "            if line.strip() and '-' in line:\n",
    "                # Remove the bullet point and any leading/trailing spaces\n",
    "                sentence = line.split('-', 1)[-1].strip()\n",
    "                # Append the structured tuple\n",
    "                structured_data.append((sentence, category, idiom, response_type))\n",
    "    return structured_data"
   ]
  },
  {
   "cell_type": "code",
   "execution_count": null,
   "metadata": {},
   "outputs": [],
   "source": [
    "def parse_numbered_sentences(raw_texts):\n",
    "    # Initialize the list to store extracted sentences\n",
    "    extracted_sentences = []\n",
    "    \n",
    "    # Iterate through each text block in the list\n",
    "    for raw_text in raw_texts:\n",
    "        # Split the input text into lines\n",
    "        lines = raw_text.split('\\n')\n",
    "        \n",
    "        # Iterate through each line in the input text\n",
    "        for line in lines:\n",
    "            # Strip any leading/trailing whitespace from the line\n",
    "            line = line.strip()\n",
    "            \n",
    "            # Check if the line starts with a numeric prefix followed by a dot and space (e.g., '1. ')\n",
    "            if line.startswith(('1. ', '2. ', '3. ', '4. ')):\n",
    "                # Extract the sentence after the numeric prefix\n",
    "                sentence = line.split('. ', 1)[-1]\n",
    "                # Append the extracted sentence to the list\n",
    "                extracted_sentences.append((sentence, category, idiom, type))\n",
    "    \n",
    "    return extracted_sentences"
   ]
  },
  {
   "cell_type": "code",
   "execution_count": null,
   "metadata": {},
   "outputs": [],
   "source": [
    "parsed_data = parse_and_structure_data(responses, idiom, category, type)\n",
    "parsed_data"
   ]
  },
  {
   "cell_type": "code",
   "execution_count": null,
   "metadata": {},
   "outputs": [],
   "source": [
    "new_df= pd.DataFrame(parsed_data, columns=[\"submission\", \"category\", \"idiom\", \"type\"])\n",
    "new_df"
   ]
  },
  {
   "cell_type": "code",
   "execution_count": null,
   "metadata": {},
   "outputs": [],
   "source": [
    "df_structured = pd.concat([df_structured, new_df], ignore_index=True)\n",
    "df_structured"
   ]
  },
  {
   "cell_type": "code",
   "execution_count": null,
   "metadata": {},
   "outputs": [],
   "source": [
    "class ChatSession:\n",
    "    def __init__(self, category, model=model):\n",
    "        self.model = model\n",
    "        system_message = f\"Since English is your native language, you should use our language in rich and creative ways. Please avoid repeating your sentences and craft sentences using idioms correctly and with their {category} meanings, without altering the root words of the idiom. You should also avoid constructing sentences using personal names!\"\n",
    "        print(system_message)\n",
    "        self.messages = [\n",
    "            {\"role\": \"system\", \"content\": system_message}\n",
    "        ]\n",
    "\n",
    "    def get_completion(self, user_prompt):\n",
    "        # Add the new user message\n",
    "        self.messages.append({\"role\": \"user\", \"content\": user_prompt})\n",
    "        \n",
    "        # Make the API call\n",
    "        response = client.chat.completions.create(\n",
    "            model=self.model,\n",
    "            messages=self.messages,\n",
    "        )\n",
    "\n",
    "        # Retrieve the response and append to messages to maintain context\n",
    "        ai_response = response.choices[0].message.content.strip()\n",
    "        self.messages.append({\"role\": \"assistant\", \"content\": ai_response})\n",
    "        response_df = pd.DataFrame(columns=[\"raw_response\", \"idiom\",\"type\",\"category\"])\n",
    "        new_entry = {\n",
    "            \"raw_response\": ai_response,\n",
    "            \"idiom\": idiom,\n",
    "            \"type\": type,\n",
    "            \"category\":category\n",
    "        }\n",
    "        response_df = pd.concat([response_df, pd.DataFrame([new_entry])], ignore_index=True)\n",
    "        response_df.to_csv('response_data.csv', mode='a', header=False, index=False)\n",
    "        return ai_response"
   ]
  },
  {
   "cell_type": "code",
   "execution_count": null,
   "metadata": {},
   "outputs": [],
   "source": [
    "chat_session = ChatSession(category=category)"
   ]
  },
  {
   "cell_type": "code",
   "execution_count": null,
   "metadata": {},
   "outputs": [],
   "source": [
    "type = \"Enhanced-prompting\"\n",
    "step = 2"
   ]
  },
  {
   "cell_type": "code",
   "execution_count": null,
   "metadata": {},
   "outputs": [],
   "source": [
    "prompt = f\"\"\"\n",
    "Using the idiom '{idiom}' in the {category} sense, create five new sentences with different sentence structures. Use the idiom in various parts of the sentences. Please avoid repeating your sentences.\n",
    "\"\"\"\n",
    "print(prompt)\n",
    "print(\"\\n\")\n",
    "responses = []\n",
    "for i in range(step):\n",
    "    result = chat_session.get_completion(prompt)\n",
    "    responses.append(result)"
   ]
  },
  {
   "cell_type": "code",
   "execution_count": null,
   "metadata": {},
   "outputs": [],
   "source": [
    "responses"
   ]
  },
  {
   "cell_type": "code",
   "execution_count": null,
   "metadata": {},
   "outputs": [],
   "source": [
    "def parse_and_structure_data(raw_responses_list, idiom, category, response_type):\n",
    "    # Initialize the list to store structured data\n",
    "    structured_data = []\n",
    "    # Iterate through each block of responses\n",
    "    for block in raw_responses_list:\n",
    "        # Split each block into individual sentences\n",
    "        sentences = block.split('\\n')\n",
    "        # Remove the numbering from each sentence and strip leading/trailing whitespace\n",
    "        clean_sentences = [sentence.split('. ', 1)[-1].strip() for sentence in sentences]\n",
    "        # For each sentence, append a tuple with the structured data\n",
    "        for sentence in clean_sentences:\n",
    "            structured_data.append((sentence, category, idiom, response_type))\n",
    "    return structured_data"
   ]
  },
  {
   "cell_type": "code",
   "execution_count": null,
   "metadata": {},
   "outputs": [],
   "source": [
    "structured_data = parse_and_structure_data(responses, idiom, category, type)\n",
    "\n",
    "new_df= pd.DataFrame(structured_data, columns=[\"submission\", \"category\", \"idiom\", \"type\"])\n",
    "new_df"
   ]
  },
  {
   "cell_type": "code",
   "execution_count": null,
   "metadata": {},
   "outputs": [],
   "source": [
    "new_df = new_df[new_df['submission']!=\"\"]\n",
    "new_df.reset_index(drop=True,inplace=True)\n",
    "new_df\n"
   ]
  },
  {
   "cell_type": "code",
   "execution_count": null,
   "metadata": {},
   "outputs": [],
   "source": [
    "df_structured = pd.concat([df_structured, new_df], ignore_index=True)\n",
    "\n",
    "df_structured"
   ]
  },
  {
   "cell_type": "code",
   "execution_count": null,
   "metadata": {},
   "outputs": [],
   "source": [
    "df_structured"
   ]
  },
  {
   "cell_type": "code",
   "execution_count": null,
   "metadata": {},
   "outputs": [],
   "source": [
    "# Define the path for the CSV file\n",
    "file_path = 'gpt4_en_final_mecaz.csv'\n",
    "\n",
    "# Check if the file exists\n",
    "if os.path.exists(file_path):\n",
    "    # Append without writing headers\n",
    "    df_structured.to_csv(file_path, mode='a', index=False, header=False)\n",
    "else:\n",
    "    # Create a new file and write the DataFrame with headers\n",
    "    df_structured.to_csv(file_path, mode='w', index=False, header=True)"
   ]
  }
 ],
 "metadata": {
  "kernelspec": {
   "display_name": "base",
   "language": "python",
   "name": "python3"
  },
  "language_info": {
   "codemirror_mode": {
    "name": "ipython",
    "version": 3
   },
   "file_extension": ".py",
   "mimetype": "text/x-python",
   "name": "python",
   "nbconvert_exporter": "python",
   "pygments_lexer": "ipython3",
   "version": "3.11.7"
  }
 },
 "nbformat": 4,
 "nbformat_minor": 2
}
