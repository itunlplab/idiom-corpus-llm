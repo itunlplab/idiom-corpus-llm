{
 "nbformat": 4,
 "nbformat_minor": 0,
 "metadata": {
  "colab": {
   "provenance": [],
   "gpuType": "T4"
  },
  "kernelspec": {
   "name": "python3",
   "display_name": "Python 3"
  },
  "language_info": {
   "name": "python"
  },
  "accelerator": "GPU"
 },
 "cells": [
  {
   "cell_type": "code",
   "execution_count": null,
   "metadata": {
    "id": "XA0gQ71BJSuF"
   },
   "outputs": [],
   "source": [
    "from transformers import AutoTokenizer, AutoModelForSequenceClassification\n",
    "from transformers import Trainer, TrainingArguments\n",
    "from torch.utils.data import DataLoader, TensorDataset\n",
    "from sklearn.metrics import f1_score, classification_report\n",
    "import torch\n",
    "import pandas as pd\n",
    "from sklearn.model_selection import train_test_split\n",
    "from sklearn.preprocessing import LabelEncoder\n",
    "import numpy as np\n",
    "from transformers import AdamW\n",
    "from tqdm import tqdm"
   ]
  },
  {
   "cell_type": "code",
   "source": [
    "pip install fugashi ipadic"
   ],
   "metadata": {
    "colab": {
     "base_uri": "https://localhost:8080/"
    },
    "id": "EMIhvEFBkvv0",
    "outputId": "3db2bf05-8528-47e8-c220-eebfeff3f11a"
   },
   "execution_count": null,
   "outputs": []
  },
  {
   "cell_type": "code",
   "source": [
    "language=\"jp\"\n",
    "modelname=\"JapaneseBERT\"\n",
    "input = \"gpt4\"\n",
    "test = \"OPENMWE\"\n",
    "filtered= True"
   ],
   "metadata": {
    "id": "znTrLG4KJTPs"
   },
   "execution_count": null,
   "outputs": []
  },
  {
   "cell_type": "code",
   "source": [
    "if input == \"gpt4\":\n",
    "  gpt4_flag=True\n",
    "else:\n",
    "  gpt4_flag=False"
   ],
   "metadata": {
    "id": "oILuvuhkJTSI"
   },
   "execution_count": null,
   "outputs": []
  },
  {
   "cell_type": "code",
   "source": [
    "# JP encoding='euc-jp' other encoding normal CHECK ALWAYS DATASETS\n",
    "df_train = pd.read_csv(f'train_gpt4_jp_zero_shot.csv',encoding='euc-jp')\n",
    "df_eval = pd.read_csv(f'eval_gpt4_jp_zero_shot.csv',encoding='euc-jp')\n",
    "df_test = pd.read_csv(f'jp_test.csv',encoding='euc-jp')"
   ],
   "metadata": {
    "id": "Snmdkw85JTUk"
   },
   "execution_count": null,
   "outputs": []
  },
  {
   "cell_type": "code",
   "source": [
    "def get_category_mapping(language):\n",
    "    if language in ['en', 'jp']:\n",
    "        category_mapping = {\n",
    "            'figurative': 'idiom',\n",
    "            'literal': 'nonidiom'\n",
    "        }\n",
    "    elif language == 'tr':\n",
    "        category_mapping = {\n",
    "            'mecaz': 'idiom',\n",
    "            'gerçek': 'nonidiom'\n",
    "        }\n",
    "    elif language == 'it':\n",
    "        category_mapping = {\n",
    "            'figurato': 'idiom',\n",
    "            'letterale': 'nonidiom'\n",
    "        }\n",
    "    else:\n",
    "        raise ValueError(f\"Language '{language}' is not supported.\")\n",
    "\n",
    "    return category_mapping"
   ],
   "metadata": {
    "id": "MYKkQv9-JTXJ"
   },
   "execution_count": null,
   "outputs": []
  },
  {
   "cell_type": "code",
   "source": [
    "category_mapping = get_category_mapping(language)\n",
    "print(category_mapping)"
   ],
   "metadata": {
    "colab": {
     "base_uri": "https://localhost:8080/"
    },
    "id": "T3LbPf8WJTZ1",
    "outputId": "c3e4d5d4-13ac-41f2-badb-bdefcdebd045"
   },
   "execution_count": null,
   "outputs": []
  },
  {
   "cell_type": "code",
   "source": [
    "if gpt4_flag or language in ['en', 'jp']:\n",
    "  df_train['category'] = df_train['category'].map(category_mapping)\n",
    "df_train"
   ],
   "metadata": {
    "colab": {
     "base_uri": "https://localhost:8080/",
     "height": 597
    },
    "id": "6_Zk49l7JexL",
    "outputId": "c4364f91-08ff-47fa-bba4-adf79ae3ddfd"
   },
   "execution_count": null,
   "outputs": []
  },
  {
   "cell_type": "code",
   "source": [
    "if gpt4_flag or language in ['en', 'jp']:\n",
    "  df_eval['category'] = df_eval['category'].map(category_mapping)\n",
    "df_eval"
   ],
   "metadata": {
    "colab": {
     "base_uri": "https://localhost:8080/",
     "height": 597
    },
    "id": "9zJlgRO1Jez5",
    "outputId": "60001264-5922-4e83-fe38-c89212be396d"
   },
   "execution_count": null,
   "outputs": []
  },
  {
   "cell_type": "code",
   "source": [
    "if language in ['en', 'jp']:\n",
    "  df_test['category'] = df_test['category'].map(category_mapping)"
   ],
   "metadata": {
    "id": "U1vRjlKlJe2O"
   },
   "execution_count": null,
   "outputs": []
  },
  {
   "cell_type": "code",
   "source": [
    "df_test"
   ],
   "metadata": {
    "colab": {
     "base_uri": "https://localhost:8080/",
     "height": 545
    },
    "id": "lBDFP90aJhD7",
    "outputId": "2ab7e9e1-b0a2-4ae3-f4bb-bb7c7b848365"
   },
   "execution_count": null,
   "outputs": []
  },
  {
   "cell_type": "code",
   "source": [
    "if filtered == True:\n",
    "  df_train = df_train.groupby(['idiom', 'category']).apply(lambda x: x.sample(n=32, replace=False)).reset_index(drop=True)\n",
    "  df_eval = df_eval.groupby(['idiom', 'category']).apply(lambda x: x.sample(n=8, replace=False)).reset_index(drop=True)"
   ],
   "metadata": {
    "colab": {
     "base_uri": "https://localhost:8080/"
    },
    "id": "L6hkuF2YJycy",
    "outputId": "30f572b0-756f-42f7-874c-932690b437a2"
   },
   "execution_count": null,
   "outputs": []
  },
  {
   "cell_type": "code",
   "source": [
    "df_train['category'] = df_train['category'].str.lower()\n",
    "df_eval['category'] = df_eval['category'].str.lower()\n",
    "df_test['category'] = df_test['category'].str.lower()"
   ],
   "metadata": {
    "id": "x7Ur4df9JhGM"
   },
   "execution_count": null,
   "outputs": []
  },
  {
   "cell_type": "code",
   "source": [
    "df_train.head()"
   ],
   "metadata": {
    "colab": {
     "base_uri": "https://localhost:8080/",
     "height": 293
    },
    "id": "94PpZAmLJhIy",
    "outputId": "f5b0f31b-0ab7-4d41-d960-8deccd49816d"
   },
   "execution_count": null,
   "outputs": []
  },
  {
   "cell_type": "code",
   "source": [
    "df_eval.head()"
   ],
   "metadata": {
    "colab": {
     "base_uri": "https://localhost:8080/",
     "height": 293
    },
    "id": "CxtUP1RLJhLC",
    "outputId": "e1c3bb70-985b-4631-c5ba-6ed2c745db95"
   },
   "execution_count": null,
   "outputs": []
  },
  {
   "cell_type": "code",
   "source": [
    "df_test.head()"
   ],
   "metadata": {
    "colab": {
     "base_uri": "https://localhost:8080/",
     "height": 206
    },
    "id": "xe2RwUpUJhNT",
    "outputId": "2edbadeb-3458-4f30-b5b3-ad16f58d334c"
   },
   "execution_count": null,
   "outputs": []
  },
  {
   "cell_type": "code",
   "source": [
    "# Encode the 'category' column\n",
    "label_encoder = LabelEncoder()\n",
    "df_train['category_encoded'] = label_encoder.fit_transform(df_train['category'])\n",
    "df_eval['category_encoded'] = label_encoder.transform(df_eval['category'])\n",
    "df_test['category_encoded'] = label_encoder.transform(df_test['category'])"
   ],
   "metadata": {
    "id": "mLf9tcC2Jkzs"
   },
   "execution_count": null,
   "outputs": []
  },
  {
   "cell_type": "code",
   "source": [
    "df_train"
   ],
   "metadata": {
    "colab": {
     "base_uri": "https://localhost:8080/",
     "height": 597
    },
    "id": "9qDhmZdlJk2G",
    "outputId": "31fb47d2-a689-4be8-b7b7-32a4280a6967"
   },
   "execution_count": null,
   "outputs": []
  },
  {
   "cell_type": "code",
   "source": [
    "df_eval"
   ],
   "metadata": {
    "colab": {
     "base_uri": "https://localhost:8080/",
     "height": 597
    },
    "id": "wPTcbWjSJk4l",
    "outputId": "5a534ac5-d4ae-4f8e-a637-be2e5c551da0"
   },
   "execution_count": null,
   "outputs": []
  },
  {
   "cell_type": "code",
   "source": [
    "df_test"
   ],
   "metadata": {
    "colab": {
     "base_uri": "https://localhost:8080/",
     "height": 597
    },
    "id": "ujiwOKvoJk67",
    "outputId": "0141b58c-259f-4611-b53b-edf40693a905"
   },
   "execution_count": null,
   "outputs": []
  },
  {
   "cell_type": "code",
   "source": [
    "class TextDataset(torch.utils.data.Dataset):\n",
    "    def __init__(self, encodings, labels):\n",
    "        self.encodings = encodings\n",
    "        self.labels = labels\n",
    "\n",
    "    def __getitem__(self, idx):\n",
    "        item = {key: torch.tensor(val[idx]) for key, val in self.encodings.items()}\n",
    "        item['labels'] = torch.tensor(self.labels[idx])\n",
    "        return item\n",
    "\n",
    "    def __len__(self):\n",
    "        return len(self.labels)\n"
   ],
   "metadata": {
    "id": "UQZBQI9QJk9O"
   },
   "execution_count": null,
   "outputs": []
  },
  {
   "cell_type": "code",
   "source": [
    "# Initialize tokenizer\n",
    "tokenizer = AutoTokenizer.from_pretrained(\"tohoku-nlp/bert-base-japanese\")\n",
    "\n",
    "# Tokenize the data\n",
    "train_encodings = tokenizer(list(df_train['submission']), truncation=True, padding=True, return_tensors=\"pt\")\n",
    "val_encodings = tokenizer(list(df_eval['submission']), truncation=True, padding=True, return_tensors=\"pt\")\n",
    "test_encodings = tokenizer(list(df_test['submission']), truncation=True, padding=True, return_tensors=\"pt\")\n",
    "# Convert to torch tensors\n",
    "train_labels = torch.tensor(df_train['category_encoded'].values)\n",
    "val_labels = torch.tensor(df_eval['category_encoded'].values)\n",
    "test_labels = torch.tensor(df_test['category_encoded'].values)\n",
    "\n",
    "# Prepare to datasets\n",
    "train_dataset = TextDataset(train_encodings, train_labels)\n",
    "val_dataset = TextDataset(val_encodings, val_labels)\n",
    "test_dataset = TextDataset(test_encodings, test_labels)\n",
    "\n",
    "# DataLoader\n",
    "train_loader = DataLoader(train_dataset, batch_size=8, shuffle=True)\n",
    "val_loader = DataLoader(val_dataset, batch_size=8, shuffle=False)\n",
    "test_loader = DataLoader(test_dataset, batch_size=8, shuffle=False)"
   ],
   "metadata": {
    "colab": {
     "base_uri": "https://localhost:8080/"
    },
    "id": "v8RsN-wzJo43",
    "outputId": "363c16aa-c297-4c5e-8b8e-ef650ae5bcb9"
   },
   "execution_count": null,
   "outputs": []
  },
  {
   "cell_type": "code",
   "source": [
    "num_labels = len(label_encoder.classes_)\n",
    "model = AutoModelForSequenceClassification.from_pretrained(\"tohoku-nlp/bert-base-japanese\", num_labels=num_labels)\n",
    "\n",
    "# Set device\n",
    "device = torch.device('cuda' if torch.cuda.is_available() else 'cpu')\n",
    "model.to(device)\n",
    "optimizer = AdamW(model.parameters(), lr=5e-6)\n",
    "\n",
    "epochs = 4\n",
    "for epoch in range(epochs):\n",
    "    model.train()\n",
    "    total_loss = 0\n",
    "    for batch in tqdm(train_loader):\n",
    "        batch = {k: v.to(device) for k, v in batch.items()}\n",
    "        outputs = model(**batch)\n",
    "        loss = outputs.loss\n",
    "        total_loss += loss.item()\n",
    "\n",
    "        loss.backward()\n",
    "        optimizer.step()\n",
    "        optimizer.zero_grad()\n",
    "\n",
    "    # Average loss across all batches\n",
    "    avg_train_loss = total_loss / len(train_loader)\n",
    "    print(f\"Epoch {epoch + 1}/{epochs} | Train Loss: {avg_train_loss}\")\n",
    "\n",
    "    # Evaluation step\n",
    "    model.eval()\n",
    "    total_eval_accuracy = 0\n",
    "    for batch in tqdm(val_loader):\n",
    "        batch = {k: v.to(device) for k, v in batch.items()}\n",
    "        with torch.no_grad():\n",
    "            outputs = model(**batch)\n",
    "\n",
    "        logits = outputs.logits\n",
    "        predictions = torch.argmax(logits, dim=-1)\n",
    "        accuracy = (predictions == batch['labels']).cpu().numpy().mean() * 100\n",
    "        total_eval_accuracy += accuracy\n",
    "\n",
    "    avg_val_accuracy = total_eval_accuracy / len(val_loader)\n",
    "    print(f\"Epoch {epoch + 1}/{epochs} | Validation Accuracy: {avg_val_accuracy:.2f}%\")\n"
   ],
   "metadata": {
    "colab": {
     "base_uri": "https://localhost:8080/"
    },
    "id": "okQ9b6c6Jpdz",
    "outputId": "ee5d2810-d035-4db8-caf9-3e97927317bd"
   },
   "execution_count": null,
   "outputs": []
  },
  {
   "cell_type": "code",
   "source": [
    "# Ensure the model is in evaluation mode\n",
    "model.eval()\n",
    "\n",
    "# Move the model to the appropriate device\n",
    "model.to(device)\n",
    "\n",
    "# Initialize variables to track accuracy\n",
    "total_correct = 0\n",
    "total_predictions = 0\n",
    "\n",
    "# Store true labels and predictions for F1 score calculation\n",
    "all_labels = []\n",
    "all_predictions = []\n",
    "\n",
    "# No gradient updates needed for evaluation\n",
    "with torch.no_grad():\n",
    "    for batch in test_loader:\n",
    "        # Move batch to the same device as the model\n",
    "        batch = {k: v.to(device) for k, v in batch.items()}\n",
    "\n",
    "        # Forward pass\n",
    "        outputs = model(**batch)\n",
    "\n",
    "        # Get predictions\n",
    "        logits = outputs.logits\n",
    "        predictions = torch.argmax(logits, dim=-1)\n",
    "\n",
    "        # Update tracking variables\n",
    "        total_correct += (predictions == batch['labels']).sum().item()\n",
    "        total_predictions += predictions.size(0)\n",
    "\n",
    "        # Store predictions and true labels\n",
    "        all_predictions.extend(predictions.cpu().numpy())\n",
    "        all_labels.extend(batch['labels'].cpu().numpy())\n",
    "\n",
    "# Calculate accuracy\n",
    "test_accuracy = total_correct / total_predictions\n",
    "print(f'Test Accuracy: {test_accuracy:.4f}')\n",
    "\n",
    "# Calculate F1 scores\n",
    "f1_weighted = f1_score(all_labels, all_predictions, average='weighted')\n",
    "f1_macro = f1_score(all_labels, all_predictions, average='macro')\n",
    "\n",
    "print(f'Weighted F1 Score: {f1_weighted:.4f}')\n",
    "print(f'Macro F1 Score: {f1_macro:.4f}')\n"
   ],
   "metadata": {
    "id": "xb1ZMvr4JpgK",
    "colab": {
     "base_uri": "https://localhost:8080/"
    },
    "outputId": "628505e8-de0a-4940-a9a6-42e5dd7335b5"
   },
   "execution_count": null,
   "outputs": []
  },
  {
   "cell_type": "code",
   "source": [
    "# Generate classification report\n",
    "report = classification_report(all_labels, all_predictions, digits=4)\n",
    "print(f'Classification Report for {modelname}, language {language.upper()}, Train {input.upper()}, Test {test.upper()}:')\n",
    "print(report)"
   ],
   "metadata": {
    "id": "4GpyQKRbJpib",
    "colab": {
     "base_uri": "https://localhost:8080/"
    },
    "outputId": "70210c23-1f14-4946-c4c3-fb937a2e6bac"
   },
   "execution_count": null,
   "outputs": []
  },
  {
   "cell_type": "code",
   "source": [],
   "metadata": {
    "id": "wa6In6IjKwsg"
   },
   "execution_count": null,
   "outputs": []
  }
 ]
}
