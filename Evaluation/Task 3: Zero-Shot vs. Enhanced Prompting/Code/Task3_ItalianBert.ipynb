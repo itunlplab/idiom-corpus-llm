{
 "nbformat": 4,
 "nbformat_minor": 0,
 "metadata": {
  "colab": {
   "provenance": [],
   "gpuType": "T4"
  },
  "kernelspec": {
   "name": "python3",
   "display_name": "Python 3"
  },
  "language_info": {
   "name": "python"
  },
  "accelerator": "GPU"
 },
 "cells": [
  {
   "cell_type": "code",
   "execution_count": null,
   "metadata": {
    "id": "XA0gQ71BJSuF"
   },
   "outputs": [],
   "source": [
    "from transformers import AutoTokenizer, AutoModelForSequenceClassification\n",
    "from transformers import Trainer, TrainingArguments\n",
    "from torch.utils.data import DataLoader, TensorDataset\n",
    "from sklearn.metrics import f1_score, classification_report\n",
    "import torch\n",
    "import pandas as pd\n",
    "from sklearn.model_selection import train_test_split\n",
    "from sklearn.preprocessing import LabelEncoder\n",
    "import numpy as np\n",
    "from transformers import AdamW\n",
    "from tqdm import tqdm"
   ]
  },
  {
   "cell_type": "code",
   "source": [
    "language=\"it\"\n",
    "modelname=\"ItalianBert\"\n",
    "input = \"gpt4\"\n",
    "test = \"Dodiom\"\n",
    "filtered= True"
   ],
   "metadata": {
    "id": "znTrLG4KJTPs"
   },
   "execution_count": null,
   "outputs": []
  },
  {
   "cell_type": "code",
   "source": [
    "if input == \"gpt4\":\n",
    "  gpt4_flag=True\n",
    "else:\n",
    "  gpt4_flag=False"
   ],
   "metadata": {
    "id": "oILuvuhkJTSI"
   },
   "execution_count": null,
   "outputs": []
  },
  {
   "cell_type": "code",
   "source": [
    "# JP encoding='euc-jp' other encoding normal CHECK ALWAYS DATASETS\n",
    "df_train = pd.read_csv(f'train_gpt4_it_zero_shot.csv')\n",
    "df_eval = pd.read_csv(f'eval_gpt4_it_zero_shot.csv')\n",
    "df_test = pd.read_csv(f'dodiom_it_test.csv')"
   ],
   "metadata": {
    "id": "Snmdkw85JTUk"
   },
   "execution_count": null,
   "outputs": []
  },
  {
   "cell_type": "code",
   "source": [
    "def get_category_mapping(language):\n",
    "    if language in ['en', 'jp']:\n",
    "        category_mapping = {\n",
    "            'figurative': 'idiom',\n",
    "            'literal': 'nonidiom'\n",
    "        }\n",
    "    elif language == 'tr':\n",
    "        category_mapping = {\n",
    "            'mecaz': 'idiom',\n",
    "            'gerçek': 'nonidiom'\n",
    "        }\n",
    "    elif language == 'it':\n",
    "        category_mapping = {\n",
    "            'figurato': 'idiom',\n",
    "            'letterale': 'nonidiom'\n",
    "        }\n",
    "    else:\n",
    "        raise ValueError(f\"Language '{language}' is not supported.\")\n",
    "\n",
    "    return category_mapping"
   ],
   "metadata": {
    "id": "MYKkQv9-JTXJ"
   },
   "execution_count": null,
   "outputs": []
  },
  {
   "cell_type": "code",
   "source": [
    "category_mapping = get_category_mapping(language)\n",
    "print(category_mapping)"
   ],
   "metadata": {
    "colab": {
     "base_uri": "https://localhost:8080/"
    },
    "id": "T3LbPf8WJTZ1",
    "outputId": "fc61b48f-2824-411c-dc80-ee0bdcf4c3e3"
   },
   "execution_count": null,
   "outputs": []
  },
  {
   "cell_type": "code",
   "source": [
    "if gpt4_flag or language in ['en', 'jp']:\n",
    "  df_train['category'] = df_train['category'].map(category_mapping)\n",
    "df_train"
   ],
   "metadata": {
    "colab": {
     "base_uri": "https://localhost:8080/",
     "height": 424
    },
    "id": "6_Zk49l7JexL",
    "outputId": "070115e3-ea5d-403f-cfc9-f75f997d5f9f"
   },
   "execution_count": null,
   "outputs": []
  },
  {
   "cell_type": "code",
   "source": [
    "if gpt4_flag or language in ['en', 'jp']:\n",
    "  df_eval['category'] = df_eval['category'].map(category_mapping)\n",
    "df_eval"
   ],
   "metadata": {
    "colab": {
     "base_uri": "https://localhost:8080/",
     "height": 424
    },
    "id": "9zJlgRO1Jez5",
    "outputId": "36ce5239-7d36-4f6b-9d47-4e3f4da9d817"
   },
   "execution_count": null,
   "outputs": []
  },
  {
   "cell_type": "code",
   "source": [
    "if language in ['en', 'jp']:\n",
    "  df_test['category'] = df_test['category'].map(category_mapping)"
   ],
   "metadata": {
    "id": "U1vRjlKlJe2O"
   },
   "execution_count": null,
   "outputs": []
  },
  {
   "cell_type": "code",
   "source": [
    "df_test"
   ],
   "metadata": {
    "colab": {
     "base_uri": "https://localhost:8080/",
     "height": 597
    },
    "id": "lBDFP90aJhD7",
    "outputId": "b9f5608a-18c0-4195-cd76-55c4b42b8dd4"
   },
   "execution_count": null,
   "outputs": []
  },
  {
   "cell_type": "code",
   "source": [
    "if filtered == True:\n",
    "  df_train = df_train.groupby(['idiom', 'category']).apply(lambda x: x.sample(n=32, replace=False)).reset_index(drop=True)\n",
    "  df_eval = df_eval.groupby(['idiom', 'category']).apply(lambda x: x.sample(n=8, replace=False)).reset_index(drop=True)"
   ],
   "metadata": {
    "colab": {
     "base_uri": "https://localhost:8080/"
    },
    "id": "L6hkuF2YJycy",
    "outputId": "034a2785-ac54-41b8-9c46-c35a402e1309"
   },
   "execution_count": null,
   "outputs": []
  },
  {
   "cell_type": "code",
   "source": [
    "df_train['category'] = df_train['category'].str.lower()\n",
    "df_eval['category'] = df_eval['category'].str.lower()\n",
    "df_test['category'] = df_test['category'].str.lower()"
   ],
   "metadata": {
    "id": "x7Ur4df9JhGM"
   },
   "execution_count": null,
   "outputs": []
  },
  {
   "cell_type": "code",
   "source": [
    "df_train.head()"
   ],
   "metadata": {
    "colab": {
     "base_uri": "https://localhost:8080/",
     "height": 206
    },
    "id": "94PpZAmLJhIy",
    "outputId": "bdd58857-02aa-48a7-c0b9-da169e80dbff"
   },
   "execution_count": null,
   "outputs": []
  },
  {
   "cell_type": "code",
   "source": [
    "df_eval.head()"
   ],
   "metadata": {
    "colab": {
     "base_uri": "https://localhost:8080/",
     "height": 206
    },
    "id": "CxtUP1RLJhLC",
    "outputId": "212f10ae-3ce9-450c-b072-6d05291f084d"
   },
   "execution_count": null,
   "outputs": []
  },
  {
   "cell_type": "code",
   "source": [
    "df_test.head()"
   ],
   "metadata": {
    "colab": {
     "base_uri": "https://localhost:8080/",
     "height": 293
    },
    "id": "xe2RwUpUJhNT",
    "outputId": "89f20167-633d-41d3-ee33-429a69b7aa69"
   },
   "execution_count": null,
   "outputs": []
  },
  {
   "cell_type": "code",
   "source": [
    "# Encode the 'category' column\n",
    "label_encoder = LabelEncoder()\n",
    "df_train['category_encoded'] = label_encoder.fit_transform(df_train['category'])\n",
    "df_eval['category_encoded'] = label_encoder.transform(df_eval['category'])\n",
    "df_test['category_encoded'] = label_encoder.transform(df_test['category'])"
   ],
   "metadata": {
    "id": "mLf9tcC2Jkzs"
   },
   "execution_count": null,
   "outputs": []
  },
  {
   "cell_type": "code",
   "source": [
    "df_train"
   ],
   "metadata": {
    "colab": {
     "base_uri": "https://localhost:8080/",
     "height": 424
    },
    "id": "9qDhmZdlJk2G",
    "outputId": "86913f88-6ae6-4243-badc-23b4128b6b6b"
   },
   "execution_count": null,
   "outputs": []
  },
  {
   "cell_type": "code",
   "source": [
    "df_eval"
   ],
   "metadata": {
    "colab": {
     "base_uri": "https://localhost:8080/",
     "height": 424
    },
    "id": "wPTcbWjSJk4l",
    "outputId": "26d1ed1f-57f3-423d-a35c-9effd0940ecb"
   },
   "execution_count": null,
   "outputs": []
  },
  {
   "cell_type": "code",
   "source": [
    "df_test"
   ],
   "metadata": {
    "colab": {
     "base_uri": "https://localhost:8080/",
     "height": 597
    },
    "id": "ujiwOKvoJk67",
    "outputId": "03dbc651-56a9-46ff-f718-112649b39b6d"
   },
   "execution_count": null,
   "outputs": []
  },
  {
   "cell_type": "code",
   "source": [
    "class TextDataset(torch.utils.data.Dataset):\n",
    "    def __init__(self, encodings, labels):\n",
    "        self.encodings = encodings\n",
    "        self.labels = labels\n",
    "\n",
    "    def __getitem__(self, idx):\n",
    "        item = {key: torch.tensor(val[idx]) for key, val in self.encodings.items()}\n",
    "        item['labels'] = torch.tensor(self.labels[idx])\n",
    "        return item\n",
    "\n",
    "    def __len__(self):\n",
    "        return len(self.labels)\n"
   ],
   "metadata": {
    "id": "UQZBQI9QJk9O"
   },
   "execution_count": null,
   "outputs": []
  },
  {
   "cell_type": "code",
   "source": [
    "# Initialize tokenizer\n",
    "tokenizer = AutoTokenizer.from_pretrained(\"dbmdz/bert-base-italian-cased\")\n",
    "\n",
    "# Tokenize the data\n",
    "train_encodings = tokenizer(list(df_train['submission']), truncation=True, padding=True, return_tensors=\"pt\")\n",
    "val_encodings = tokenizer(list(df_eval['submission']), truncation=True, padding=True, return_tensors=\"pt\")\n",
    "test_encodings = tokenizer(list(df_test['submission']), truncation=True, padding=True, return_tensors=\"pt\")\n",
    "# Convert to torch tensors\n",
    "train_labels = torch.tensor(df_train['category_encoded'].values)\n",
    "val_labels = torch.tensor(df_eval['category_encoded'].values)\n",
    "test_labels = torch.tensor(df_test['category_encoded'].values)\n",
    "\n",
    "# Prepare to datasets\n",
    "train_dataset = TextDataset(train_encodings, train_labels)\n",
    "val_dataset = TextDataset(val_encodings, val_labels)\n",
    "test_dataset = TextDataset(test_encodings, test_labels)\n",
    "\n",
    "# DataLoader\n",
    "train_loader = DataLoader(train_dataset, batch_size=8, shuffle=True)\n",
    "val_loader = DataLoader(val_dataset, batch_size=8, shuffle=False)\n",
    "test_loader = DataLoader(test_dataset, batch_size=8, shuffle=False)"
   ],
   "metadata": {
    "colab": {
     "base_uri": "https://localhost:8080/"
    },
    "id": "v8RsN-wzJo43",
    "outputId": "56c27635-9092-4d69-ca3d-492e9ec71dfd"
   },
   "execution_count": null,
   "outputs": []
  },
  {
   "cell_type": "code",
   "source": [
    "num_labels = len(label_encoder.classes_)\n",
    "model = AutoModelForSequenceClassification.from_pretrained(\"dbmdz/bert-base-italian-cased\", num_labels=num_labels)\n",
    "\n",
    "# Set device\n",
    "device = torch.device('cuda' if torch.cuda.is_available() else 'cpu')\n",
    "model.to(device)\n",
    "optimizer = AdamW(model.parameters(), lr=5e-6)\n",
    "\n",
    "epochs = 4\n",
    "for epoch in range(epochs):\n",
    "    model.train()\n",
    "    total_loss = 0\n",
    "    for batch in tqdm(train_loader):\n",
    "        batch = {k: v.to(device) for k, v in batch.items()}\n",
    "        outputs = model(**batch)\n",
    "        loss = outputs.loss\n",
    "        total_loss += loss.item()\n",
    "\n",
    "        loss.backward()\n",
    "        optimizer.step()\n",
    "        optimizer.zero_grad()\n",
    "\n",
    "    # Average loss across all batches\n",
    "    avg_train_loss = total_loss / len(train_loader)\n",
    "    print(f\"Epoch {epoch + 1}/{epochs} | Train Loss: {avg_train_loss}\")\n",
    "\n",
    "    # Evaluation step\n",
    "    model.eval()\n",
    "    total_eval_accuracy = 0\n",
    "    for batch in tqdm(val_loader):\n",
    "        batch = {k: v.to(device) for k, v in batch.items()}\n",
    "        with torch.no_grad():\n",
    "            outputs = model(**batch)\n",
    "\n",
    "        logits = outputs.logits\n",
    "        predictions = torch.argmax(logits, dim=-1)\n",
    "        accuracy = (predictions == batch['labels']).cpu().numpy().mean() * 100\n",
    "        total_eval_accuracy += accuracy\n",
    "\n",
    "    avg_val_accuracy = total_eval_accuracy / len(val_loader)\n",
    "    print(f\"Epoch {epoch + 1}/{epochs} | Validation Accuracy: {avg_val_accuracy:.2f}%\")\n"
   ],
   "metadata": {
    "colab": {
     "base_uri": "https://localhost:8080/"
    },
    "id": "okQ9b6c6Jpdz",
    "outputId": "35826351-de74-44d0-8736-4756ea3c7ce5"
   },
   "execution_count": null,
   "outputs": []
  },
  {
   "cell_type": "code",
   "source": [
    "# Ensure the model is in evaluation mode\n",
    "model.eval()\n",
    "\n",
    "# Move the model to the appropriate device\n",
    "model.to(device)\n",
    "\n",
    "# Initialize variables to track accuracy\n",
    "total_correct = 0\n",
    "total_predictions = 0\n",
    "\n",
    "# Store true labels and predictions for F1 score calculation\n",
    "all_labels = []\n",
    "all_predictions = []\n",
    "\n",
    "# No gradient updates needed for evaluation\n",
    "with torch.no_grad():\n",
    "    for batch in test_loader:\n",
    "        # Move batch to the same device as the model\n",
    "        batch = {k: v.to(device) for k, v in batch.items()}\n",
    "\n",
    "        # Forward pass\n",
    "        outputs = model(**batch)\n",
    "\n",
    "        # Get predictions\n",
    "        logits = outputs.logits\n",
    "        predictions = torch.argmax(logits, dim=-1)\n",
    "\n",
    "        # Update tracking variables\n",
    "        total_correct += (predictions == batch['labels']).sum().item()\n",
    "        total_predictions += predictions.size(0)\n",
    "\n",
    "        # Store predictions and true labels\n",
    "        all_predictions.extend(predictions.cpu().numpy())\n",
    "        all_labels.extend(batch['labels'].cpu().numpy())\n",
    "\n",
    "# Calculate accuracy\n",
    "test_accuracy = total_correct / total_predictions\n",
    "print(f'Test Accuracy: {test_accuracy:.4f}')\n",
    "\n",
    "# Calculate F1 scores\n",
    "f1_weighted = f1_score(all_labels, all_predictions, average='weighted')\n",
    "f1_macro = f1_score(all_labels, all_predictions, average='macro')\n",
    "\n",
    "print(f'Weighted F1 Score: {f1_weighted:.4f}')\n",
    "print(f'Macro F1 Score: {f1_macro:.4f}')\n"
   ],
   "metadata": {
    "id": "xb1ZMvr4JpgK",
    "colab": {
     "base_uri": "https://localhost:8080/"
    },
    "outputId": "1b94aec9-7b0d-44ee-8c54-1eb8cb4ecd1e"
   },
   "execution_count": null,
   "outputs": []
  },
  {
   "cell_type": "code",
   "source": [
    "# Generate classification report\n",
    "report = classification_report(all_labels, all_predictions, digits=4)\n",
    "print(f'Classification Report for {modelname}, language {language.upper()}, Train {input.upper()}, Test {test.upper()}:')\n",
    "print(report)"
   ],
   "metadata": {
    "id": "4GpyQKRbJpib",
    "colab": {
     "base_uri": "https://localhost:8080/"
    },
    "outputId": "3e8aac40-1096-4f22-8538-9712a1a772d4"
   },
   "execution_count": null,
   "outputs": []
  },
  {
   "cell_type": "code",
   "source": [],
   "metadata": {
    "id": "wa6In6IjKwsg"
   },
   "execution_count": null,
   "outputs": []
  }
 ]
}
