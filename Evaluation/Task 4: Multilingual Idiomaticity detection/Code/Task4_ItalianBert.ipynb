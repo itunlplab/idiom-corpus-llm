{
 "nbformat": 4,
 "nbformat_minor": 0,
 "metadata": {
  "colab": {
   "provenance": [],
   "gpuType": "T4"
  },
  "kernelspec": {
   "name": "python3",
   "display_name": "Python 3"
  },
  "language_info": {
   "name": "python"
  },
  "accelerator": "GPU"
 },
 "cells": [
  {
   "cell_type": "code",
   "source": [
    "from transformers import AutoTokenizer, AutoModelForSequenceClassification\n",
    "from transformers import Trainer, TrainingArguments\n",
    "from torch.utils.data import DataLoader, TensorDataset\n",
    "from sklearn.metrics import f1_score, classification_report\n",
    "import torch\n",
    "import pandas as pd\n",
    "from sklearn.model_selection import train_test_split\n",
    "from sklearn.preprocessing import LabelEncoder\n",
    "import numpy as np\n",
    "from transformers import AdamW\n",
    "from tqdm import tqdm"
   ],
   "metadata": {
    "id": "fG99gjkTWCCZ"
   },
   "execution_count": null,
   "outputs": []
  },
  {
   "cell_type": "code",
   "source": [
    "language=\"all\"\n",
    "modelname=\"ItalianBert\"\n",
    "input = \"all\"\n",
    "test = \"all\""
   ],
   "metadata": {
    "id": "dTAqZEfdWMH8"
   },
   "execution_count": null,
   "outputs": []
  },
  {
   "cell_type": "code",
   "source": [
    "df_tr_train = pd.read_csv('train_gpt4_tr.csv')\n",
    "df_it_train = pd.read_csv('train_gpt4_it.csv')\n",
    "df_en_train = pd.read_csv('train_gpt4_en.csv')\n",
    "df_jp_train = pd.read_csv('train_gpt4_jp.csv',encoding='euc-jp')\n",
    "# Concatenate all dataframes in the list into a single dataframe\n",
    "df_train = pd.concat([df_tr_train, df_it_train, df_en_train, df_jp_train], ignore_index=True)\n",
    "\n",
    "df_tr_eval = pd.read_csv('eval_gpt4_tr.csv')\n",
    "df_it_eval = pd.read_csv('eval_gpt4_it.csv')\n",
    "df_en_eval = pd.read_csv('eval_gpt4_en.csv')\n",
    "df_jp_eval= pd.read_csv('eval_gpt4_jp.csv',encoding='euc-jp')\n",
    "# Concatenate all dataframes in the list into a single dataframe\n",
    "df_eval = pd.concat([df_tr_eval, df_it_eval, df_en_eval, df_jp_eval], ignore_index=True)"
   ],
   "metadata": {
    "id": "w8AL-uZxWS-5"
   },
   "execution_count": null,
   "outputs": []
  },
  {
   "cell_type": "code",
   "source": [
    "category_map = {\n",
    "    'mecaz': 'idiom',\n",
    "    'figurato': 'idiom',\n",
    "    'figurative':'idiom',\n",
    "    'gerçek': 'nonidiom',\n",
    "    'letterale': 'nonidiom',\n",
    "    'literal':'nonidiom'\n",
    "\n",
    "}\n",
    "\n",
    "df_train['category'] = df_train['category'].replace(category_map)\n",
    "df_eval['category'] = df_eval['category'].replace(category_map)"
   ],
   "metadata": {
    "id": "fpKzf7SFePPg"
   },
   "execution_count": null,
   "outputs": []
  },
  {
   "cell_type": "code",
   "source": [
    "df_tr_test = pd.read_csv('dodiom_tr_test.csv')\n",
    "df_it_test = pd.read_csv('dodiom_it_test.csv')\n",
    "df_en_test = pd.read_csv('cook_en_test.csv')\n",
    "df_jp_test = pd.read_csv('jp_test.csv',encoding='euc-jp')"
   ],
   "metadata": {
    "id": "KOwSHxIhePot"
   },
   "execution_count": null,
   "outputs": []
  },
  {
   "cell_type": "code",
   "source": [
    "df_en_test['category'] = df_en_test['category'].replace(category_map)\n",
    "df_jp_test['category'] = df_jp_test['category'].replace(category_map)"
   ],
   "metadata": {
    "id": "ImeN4pIcQw0O"
   },
   "execution_count": null,
   "outputs": []
  },
  {
   "cell_type": "code",
   "source": [
    "df_train['category'] = df_train['category'].str.lower()\n",
    "df_eval['category'] = df_eval['category'].str.lower()\n",
    "df_tr_test['category'] = df_tr_test['category'].str.lower()\n",
    "df_it_test['category'] = df_it_test['category'].str.lower()\n",
    "df_en_test['category'] = df_en_test['category'].str.lower()\n",
    "df_jp_test['category'] = df_jp_test['category'].str.lower()"
   ],
   "metadata": {
    "id": "5KkNNLlmWZjg"
   },
   "execution_count": null,
   "outputs": []
  },
  {
   "cell_type": "code",
   "source": [
    "df_train.head()"
   ],
   "metadata": {
    "colab": {
     "base_uri": "https://localhost:8080/",
     "height": 206
    },
    "id": "_5h1TwPqWb0H",
    "outputId": "807285d8-6af6-41d4-ddcd-3963a28b6f9f"
   },
   "execution_count": null,
   "outputs": []
  },
  {
   "cell_type": "code",
   "source": [
    "df_eval.head()"
   ],
   "metadata": {
    "colab": {
     "base_uri": "https://localhost:8080/",
     "height": 206
    },
    "id": "07mPkKBFyZxD",
    "outputId": "14f98627-17e8-485f-c479-f849ea933ed3"
   },
   "execution_count": null,
   "outputs": []
  },
  {
   "cell_type": "code",
   "source": [
    "# Encode the 'category' column\n",
    "label_encoder = LabelEncoder()\n",
    "df_train['category_encoded'] = label_encoder.fit_transform(df_train['category'])\n",
    "df_eval['category_encoded'] = label_encoder.transform(df_eval['category'])\n",
    "df_tr_test['category_encoded'] = label_encoder.transform(df_tr_test['category'])\n",
    "df_it_test['category_encoded'] = label_encoder.transform(df_it_test['category'])\n",
    "df_en_test['category_encoded'] = label_encoder.transform(df_en_test['category'])\n",
    "df_jp_test['category_encoded'] = label_encoder.transform(df_jp_test['category'])"
   ],
   "metadata": {
    "id": "aQApDum3WfWg"
   },
   "execution_count": null,
   "outputs": []
  },
  {
   "cell_type": "code",
   "source": [
    "df_train"
   ],
   "metadata": {
    "colab": {
     "base_uri": "https://localhost:8080/",
     "height": 423
    },
    "id": "KJjnpU7XWgyG",
    "outputId": "2b2eecf9-2fa1-4739-d6f2-a23dd06b5aa4"
   },
   "execution_count": null,
   "outputs": []
  },
  {
   "cell_type": "code",
   "source": [
    "df_eval"
   ],
   "metadata": {
    "colab": {
     "base_uri": "https://localhost:8080/",
     "height": 423
    },
    "id": "905nn4TFydUz",
    "outputId": "c12b6a85-6865-4397-c4fc-d8116b563b60"
   },
   "execution_count": null,
   "outputs": []
  },
  {
   "cell_type": "code",
   "source": [
    "class TextDataset(torch.utils.data.Dataset):\n",
    "    def __init__(self, encodings, labels):\n",
    "        self.encodings = encodings\n",
    "        self.labels = labels\n",
    "\n",
    "    def __getitem__(self, idx):\n",
    "        item = {key: torch.tensor(val[idx]) for key, val in self.encodings.items()}\n",
    "        item['labels'] = torch.tensor(self.labels[idx])\n",
    "        return item\n",
    "\n",
    "    def __len__(self):\n",
    "        return len(self.labels)\n"
   ],
   "metadata": {
    "id": "NiMwI-9qWiy_"
   },
   "execution_count": null,
   "outputs": []
  },
  {
   "cell_type": "code",
   "source": [
    "# Initialize tokenizer\n",
    "tokenizer = AutoTokenizer.from_pretrained(\"dbmdz/bert-base-italian-cased\")\n",
    "\n",
    "# Tokenize the data\n",
    "train_encodings = tokenizer(list(df_train['submission']), truncation=True, padding=True, return_tensors=\"pt\")\n",
    "val_encodings = tokenizer(list(df_eval['submission']), truncation=True, padding=True, return_tensors=\"pt\")\n",
    "\n",
    "# Convert to torch tensors\n",
    "train_labels = torch.tensor(df_train['category_encoded'].values)\n",
    "val_labels = torch.tensor(df_eval['category_encoded'].values)\n",
    "\n",
    "\n",
    "# Prepare to datasets\n",
    "train_dataset = TextDataset(train_encodings, train_labels)\n",
    "val_dataset = TextDataset(val_encodings, val_labels)\n",
    "\n",
    "\n",
    "# DataLoader\n",
    "train_loader = DataLoader(train_dataset, batch_size=8, shuffle=True)\n",
    "val_loader = DataLoader(val_dataset, batch_size=8, shuffle=False)"
   ],
   "metadata": {
    "id": "rJIRVxF3Wj-4",
    "colab": {
     "base_uri": "https://localhost:8080/"
    },
    "outputId": "b27ac7d6-7514-480c-e6a8-38aa930a6673"
   },
   "execution_count": null,
   "outputs": []
  },
  {
   "cell_type": "code",
   "source": [
    "num_labels = len(label_encoder.classes_)\n",
    "model = AutoModelForSequenceClassification.from_pretrained(\"dbmdz/bert-base-italian-cased\", num_labels=num_labels)\n",
    "\n",
    "# Set device\n",
    "device = torch.device('cuda' if torch.cuda.is_available() else 'cpu')\n",
    "model.to(device)\n",
    "optimizer = AdamW(model.parameters(), lr=5e-6)\n",
    "\n",
    "epochs = 4\n",
    "for epoch in range(epochs):\n",
    "    model.train()\n",
    "    total_loss = 0\n",
    "    for batch in tqdm(train_loader):\n",
    "        batch = {k: v.to(device) for k, v in batch.items()}\n",
    "        outputs = model(**batch)\n",
    "        loss = outputs.loss\n",
    "        total_loss += loss.item()\n",
    "\n",
    "        loss.backward()\n",
    "        optimizer.step()\n",
    "        optimizer.zero_grad()\n",
    "\n",
    "    # Average loss across all batches\n",
    "    avg_train_loss = total_loss / len(train_loader)\n",
    "    print(f\"Epoch {epoch + 1}/{epochs} | Train Loss: {avg_train_loss}\")\n",
    "\n",
    "    # Evaluation step\n",
    "    model.eval()\n",
    "    total_eval_accuracy = 0\n",
    "    for batch in tqdm(val_loader):\n",
    "        batch = {k: v.to(device) for k, v in batch.items()}\n",
    "        with torch.no_grad():\n",
    "            outputs = model(**batch)\n",
    "\n",
    "        logits = outputs.logits\n",
    "        predictions = torch.argmax(logits, dim=-1)\n",
    "        accuracy = (predictions == batch['labels']).cpu().numpy().mean() * 100\n",
    "        total_eval_accuracy += accuracy\n",
    "\n",
    "    avg_val_accuracy = total_eval_accuracy / len(val_loader)\n",
    "    print(f\"Epoch {epoch + 1}/{epochs} | Validation Accuracy: {avg_val_accuracy:.2f}%\")\n"
   ],
   "metadata": {
    "colab": {
     "base_uri": "https://localhost:8080/"
    },
    "id": "EXICWcBhX9IQ",
    "outputId": "0fb98b42-353a-4965-dba6-35def30883b7"
   },
   "execution_count": null,
   "outputs": []
  },
  {
   "cell_type": "code",
   "source": [
    "test_encodings_it = tokenizer(list(df_it_test['submission']), truncation=True, padding=True, return_tensors=\"pt\")\n",
    "test_labels_it = torch.tensor(df_it_test['category_encoded'].values)\n",
    "test_dataset_it = TextDataset(test_encodings_it, test_labels_it)\n",
    "test_loader_it = DataLoader(test_dataset_it, batch_size=8, shuffle=False)"
   ],
   "metadata": {
    "id": "5pTBQJWqLPGr"
   },
   "execution_count": null,
   "outputs": []
  },
  {
   "cell_type": "code",
   "source": [
    "# Ensure the model is in evaluation mode\n",
    "model.eval()\n",
    "\n",
    "# Move the model to the appropriate device\n",
    "model.to(device)\n",
    "\n",
    "# Initialize variables to track accuracy\n",
    "total_correct = 0\n",
    "total_predictions = 0\n",
    "\n",
    "# Store true labels and predictions for F1 score calculation\n",
    "all_labels = []\n",
    "all_predictions = []\n",
    "\n",
    "# No gradient updates needed for evaluation\n",
    "with torch.no_grad():\n",
    "    for batch in test_loader_it:\n",
    "        # Move batch to the same device as the model\n",
    "        batch = {k: v.to(device) for k, v in batch.items()}\n",
    "\n",
    "        # Forward pass\n",
    "        outputs = model(**batch)\n",
    "\n",
    "        # Get predictions\n",
    "        logits = outputs.logits\n",
    "        predictions = torch.argmax(logits, dim=-1)\n",
    "\n",
    "        # Update tracking variables\n",
    "        total_correct += (predictions == batch['labels']).sum().item()\n",
    "        total_predictions += predictions.size(0)\n",
    "\n",
    "        # Store predictions and true labels\n",
    "        all_predictions.extend(predictions.cpu().numpy())\n",
    "        all_labels.extend(batch['labels'].cpu().numpy())\n",
    "\n",
    "# Calculate accuracy\n",
    "test_accuracy = total_correct / total_predictions\n",
    "print(f'Test Accuracy: {test_accuracy:.4f}')\n",
    "\n",
    "# Calculate F1 scores\n",
    "f1_weighted = f1_score(all_labels, all_predictions, average='weighted')\n",
    "f1_macro = f1_score(all_labels, all_predictions, average='macro')\n",
    "\n",
    "print(f'Weighted F1 Score: {f1_weighted:.4f}')\n",
    "print(f'Macro F1 Score: {f1_macro:.4f}')\n"
   ],
   "metadata": {
    "id": "RreHuLEvLhIL"
   },
   "execution_count": null,
   "outputs": []
  },
  {
   "cell_type": "code",
   "source": [
    "# Generate classification report\n",
    "report = classification_report(all_labels, all_predictions, digits=4)\n",
    "print(f'Classification Report for {modelname}, language {language.upper()}, Train {input.upper()}, Test {test.upper()}:')\n",
    "print(report)"
   ],
   "metadata": {
    "id": "SoQ6k_w1tfLs"
   },
   "execution_count": null,
   "outputs": []
  },
  {
   "cell_type": "code",
   "source": [],
   "metadata": {
    "id": "XHopCgk7w9mb"
   },
   "execution_count": null,
   "outputs": []
  }
 ]
}
