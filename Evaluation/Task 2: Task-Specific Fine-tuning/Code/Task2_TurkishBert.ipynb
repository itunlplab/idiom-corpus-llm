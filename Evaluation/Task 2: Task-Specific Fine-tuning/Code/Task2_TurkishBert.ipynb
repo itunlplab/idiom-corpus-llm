{
 "nbformat": 4,
 "nbformat_minor": 0,
 "metadata": {
  "colab": {
   "provenance": [],
   "gpuType": "T4"
  },
  "kernelspec": {
   "name": "python3",
   "display_name": "Python 3"
  },
  "language_info": {
   "name": "python"
  },
  "accelerator": "GPU"
 },
 "cells": [
  {
   "cell_type": "code",
   "execution_count": null,
   "metadata": {
    "id": "V9Gi37c5rzkK"
   },
   "outputs": [],
   "source": [
    "from transformers import AutoTokenizer, AutoModelForSequenceClassification\n",
    "from transformers import Trainer, TrainingArguments\n",
    "from torch.utils.data import DataLoader, TensorDataset\n",
    "from sklearn.metrics import f1_score, classification_report\n",
    "import torch\n",
    "import pandas as pd\n",
    "from sklearn.model_selection import train_test_split\n",
    "from sklearn.preprocessing import LabelEncoder\n",
    "import numpy as np\n",
    "from transformers import AdamW\n",
    "from tqdm import tqdm"
   ]
  },
  {
   "cell_type": "code",
   "source": [
    "language=\"tr\"\n",
    "modelname=\"TurkishBert\"\n",
    "input = \"Dodiom\"\n",
    "test = \"Dodiom\""
   ],
   "metadata": {
    "id": "cjXTa7k-r7F2"
   },
   "execution_count": null,
   "outputs": []
  },
  {
   "cell_type": "code",
   "source": [
    "if input == \"gpt4\":\n",
    "  gpt4_flag=True\n",
    "else:\n",
    "  gpt4_flag=False"
   ],
   "metadata": {
    "id": "Lzd5FTrwzuCu"
   },
   "execution_count": null,
   "outputs": []
  },
  {
   "cell_type": "code",
   "source": [
    "# JP encoding='euc-jp' other encoding normal CHECK ALWAYS DATASETS\n",
    "df_train = pd.read_csv(f'dodiom_tr_train.csv')\n",
    "df_eval = pd.read_csv(f'dodiom_tr_eval.csv')\n",
    "df_test = pd.read_csv(f'dodiom_tr_test.csv')"
   ],
   "metadata": {
    "id": "WYq2lNSWr7_K"
   },
   "execution_count": null,
   "outputs": []
  },
  {
   "cell_type": "code",
   "source": [
    "def get_category_mapping(language):\n",
    "    if language in ['en', 'jp']:\n",
    "        category_mapping = {\n",
    "            'figurative': 'idiom',\n",
    "            'literal': 'nonidiom'\n",
    "        }\n",
    "    elif language == 'tr':\n",
    "        category_mapping = {\n",
    "            'mecaz': 'idiom',\n",
    "            'gerçek': 'nonidiom'\n",
    "        }\n",
    "    elif language == 'it':\n",
    "        category_mapping = {\n",
    "            'figurato': 'idiom',\n",
    "            'letterale': 'nonidiom'\n",
    "        }\n",
    "    else:\n",
    "        raise ValueError(f\"Language '{language}' is not supported.\")\n",
    "\n",
    "    return category_mapping"
   ],
   "metadata": {
    "id": "ikr2cZIttQsk"
   },
   "execution_count": null,
   "outputs": []
  },
  {
   "cell_type": "code",
   "source": [
    "category_mapping = get_category_mapping(language)\n",
    "print(category_mapping)"
   ],
   "metadata": {
    "colab": {
     "base_uri": "https://localhost:8080/"
    },
    "id": "0S0HuyHAtpXF",
    "outputId": "ae6199bb-9edd-4dc4-e433-ac6913581ed8"
   },
   "execution_count": null,
   "outputs": []
  },
  {
   "cell_type": "code",
   "source": [
    "if gpt4_flag or language in ['en', 'jp']:\n",
    "  df_train['category'] = df_train['category'].map(category_mapping)\n",
    "df_train"
   ],
   "metadata": {
    "colab": {
     "base_uri": "https://localhost:8080/",
     "height": 1000
    },
    "id": "fmBZXOJYr9Zq",
    "outputId": "23253bca-0a29-44a8-bb68-95fbdcafe554"
   },
   "execution_count": null,
   "outputs": []
  },
  {
   "cell_type": "code",
   "source": [
    "if gpt4_flag or language in ['en', 'jp']:\n",
    "  df_eval['category'] = df_eval['category'].map(category_mapping)\n",
    "df_eval"
   ],
   "metadata": {
    "colab": {
     "base_uri": "https://localhost:8080/",
     "height": 1000
    },
    "id": "h2soYQGhzTma",
    "outputId": "e66b5018-9464-4a71-da1c-f9ab0a654836"
   },
   "execution_count": null,
   "outputs": []
  },
  {
   "cell_type": "code",
   "source": [
    "if language in ['en', 'jp']:\n",
    "  df_test['category'] = df_test['category'].map(category_mapping)"
   ],
   "metadata": {
    "id": "7EcE0scKtKcp"
   },
   "execution_count": null,
   "outputs": []
  },
  {
   "cell_type": "code",
   "source": [
    "df_test"
   ],
   "metadata": {
    "colab": {
     "base_uri": "https://localhost:8080/",
     "height": 1000
    },
    "id": "evB_v-YBsC7e",
    "outputId": "5e4940f1-8dea-4842-a61a-4c4f2906cffb"
   },
   "execution_count": null,
   "outputs": []
  },
  {
   "cell_type": "code",
   "source": [
    "df_train['category'] = df_train['category'].str.lower()\n",
    "df_eval['category'] = df_eval['category'].str.lower()\n",
    "df_test['category'] = df_test['category'].str.lower()"
   ],
   "metadata": {
    "id": "lKq-L-iXsA3t"
   },
   "execution_count": null,
   "outputs": []
  },
  {
   "cell_type": "code",
   "source": [
    "df_train.head()"
   ],
   "metadata": {
    "colab": {
     "base_uri": "https://localhost:8080/",
     "height": 553
    },
    "id": "upt4mt0KsBH5",
    "outputId": "c90d24aa-ab20-4852-e071-915a036e5713"
   },
   "execution_count": null,
   "outputs": []
  },
  {
   "cell_type": "code",
   "source": [
    "df_eval.head()"
   ],
   "metadata": {
    "colab": {
     "base_uri": "https://localhost:8080/",
     "height": 518
    },
    "id": "UXT-zhyBsGGg",
    "outputId": "bb5fb7dc-359c-43fb-bd5a-66fc4926392c"
   },
   "execution_count": null,
   "outputs": []
  },
  {
   "cell_type": "code",
   "source": [
    "df_test.head()"
   ],
   "metadata": {
    "colab": {
     "base_uri": "https://localhost:8080/",
     "height": 501
    },
    "id": "PtFP2wIKsGJH",
    "outputId": "f5c0f6d9-167a-4c04-f2ba-fab1df14c56c"
   },
   "execution_count": null,
   "outputs": []
  },
  {
   "cell_type": "code",
   "source": [
    "# Encode the 'category' column\n",
    "label_encoder = LabelEncoder()\n",
    "df_train['category_encoded'] = label_encoder.fit_transform(df_train['category'])\n",
    "df_eval['category_encoded'] = label_encoder.transform(df_eval['category'])\n",
    "df_test['category_encoded'] = label_encoder.transform(df_test['category'])"
   ],
   "metadata": {
    "id": "FvQPSVWssKFe"
   },
   "execution_count": null,
   "outputs": []
  },
  {
   "cell_type": "code",
   "source": [
    "df_train"
   ],
   "metadata": {
    "colab": {
     "base_uri": "https://localhost:8080/",
     "height": 1000
    },
    "id": "nW4-fRqUsKIL",
    "outputId": "c821c9c2-7883-4a82-f780-4d66e784edd6"
   },
   "execution_count": null,
   "outputs": []
  },
  {
   "cell_type": "code",
   "source": [
    "df_eval"
   ],
   "metadata": {
    "colab": {
     "base_uri": "https://localhost:8080/",
     "height": 1000
    },
    "id": "ZWAMe-5CsN1q",
    "outputId": "8e158a7e-5b97-4f87-ba82-b78f3583e512"
   },
   "execution_count": null,
   "outputs": []
  },
  {
   "cell_type": "code",
   "source": [
    "df_test"
   ],
   "metadata": {
    "colab": {
     "base_uri": "https://localhost:8080/",
     "height": 1000
    },
    "id": "d-BuelkSsN4O",
    "outputId": "76f1f7db-6bc2-4921-b0e9-daca84788d0b"
   },
   "execution_count": null,
   "outputs": []
  },
  {
   "cell_type": "code",
   "source": [
    "class TextDataset(torch.utils.data.Dataset):\n",
    "    def __init__(self, encodings, labels):\n",
    "        self.encodings = encodings\n",
    "        self.labels = labels\n",
    "\n",
    "    def __getitem__(self, idx):\n",
    "        item = {key: torch.tensor(val[idx]) for key, val in self.encodings.items()}\n",
    "        item['labels'] = torch.tensor(self.labels[idx])\n",
    "        return item\n",
    "\n",
    "    def __len__(self):\n",
    "        return len(self.labels)\n"
   ],
   "metadata": {
    "id": "6Mki029VsRxM"
   },
   "execution_count": null,
   "outputs": []
  },
  {
   "cell_type": "code",
   "source": [
    "# Initialize tokenizer\n",
    "tokenizer = AutoTokenizer.from_pretrained(\"dbmdz/bert-base-turkish-uncased\")\n",
    "\n",
    "# Tokenize the data\n",
    "train_encodings = tokenizer(list(df_train['submission']), truncation=True, padding=True, return_tensors=\"pt\")\n",
    "val_encodings = tokenizer(list(df_eval['submission']), truncation=True, padding=True, return_tensors=\"pt\")\n",
    "test_encodings = tokenizer(list(df_test['submission']), truncation=True, padding=True, return_tensors=\"pt\")\n",
    "# Convert to torch tensors\n",
    "train_labels = torch.tensor(df_train['category_encoded'].values)\n",
    "val_labels = torch.tensor(df_eval['category_encoded'].values)\n",
    "test_labels = torch.tensor(df_test['category_encoded'].values)\n",
    "\n",
    "# Prepare to datasets\n",
    "train_dataset = TextDataset(train_encodings, train_labels)\n",
    "val_dataset = TextDataset(val_encodings, val_labels)\n",
    "test_dataset = TextDataset(test_encodings, test_labels)\n",
    "\n",
    "# DataLoader\n",
    "train_loader = DataLoader(train_dataset, batch_size=8, shuffle=True)\n",
    "val_loader = DataLoader(val_dataset, batch_size=8, shuffle=False)\n",
    "test_loader = DataLoader(test_dataset, batch_size=8, shuffle=False)"
   ],
   "metadata": {
    "colab": {
     "base_uri": "https://localhost:8080/"
    },
    "id": "ytx65OG3sTdA",
    "outputId": "acb5bebd-2bd6-48e9-9c0c-269d75cf0673"
   },
   "execution_count": null,
   "outputs": []
  },
  {
   "cell_type": "code",
   "source": [
    "num_labels = len(label_encoder.classes_)\n",
    "model = AutoModelForSequenceClassification.from_pretrained(\"dbmdz/bert-base-turkish-uncased\", num_labels=num_labels)\n",
    "\n",
    "# Set device\n",
    "device = torch.device('cuda' if torch.cuda.is_available() else 'cpu')\n",
    "model.to(device)\n",
    "optimizer = AdamW(model.parameters(), lr=5e-6)\n",
    "\n",
    "epochs = 4\n",
    "for epoch in range(epochs):\n",
    "    model.train()\n",
    "    total_loss = 0\n",
    "    for batch in tqdm(train_loader):\n",
    "        batch = {k: v.to(device) for k, v in batch.items()}\n",
    "        outputs = model(**batch)\n",
    "        loss = outputs.loss\n",
    "        total_loss += loss.item()\n",
    "\n",
    "        loss.backward()\n",
    "        optimizer.step()\n",
    "        optimizer.zero_grad()\n",
    "\n",
    "    # Average loss across all batches\n",
    "    avg_train_loss = total_loss / len(train_loader)\n",
    "    print(f\"Epoch {epoch + 1}/{epochs} | Train Loss: {avg_train_loss}\")\n",
    "\n",
    "    # Evaluation step\n",
    "    model.eval()\n",
    "    total_eval_accuracy = 0\n",
    "    for batch in tqdm(val_loader):\n",
    "        batch = {k: v.to(device) for k, v in batch.items()}\n",
    "        with torch.no_grad():\n",
    "            outputs = model(**batch)\n",
    "\n",
    "        logits = outputs.logits\n",
    "        predictions = torch.argmax(logits, dim=-1)\n",
    "        accuracy = (predictions == batch['labels']).cpu().numpy().mean() * 100\n",
    "        total_eval_accuracy += accuracy\n",
    "\n",
    "    avg_val_accuracy = total_eval_accuracy / len(val_loader)\n",
    "    print(f\"Epoch {epoch + 1}/{epochs} | Validation Accuracy: {avg_val_accuracy:.2f}%\")\n"
   ],
   "metadata": {
    "colab": {
     "base_uri": "https://localhost:8080/"
    },
    "id": "dn-lX7v-u2Fj",
    "outputId": "2f5355ce-a8e9-4eda-a0aa-858db307bad5"
   },
   "execution_count": null,
   "outputs": []
  },
  {
   "cell_type": "code",
   "source": [
    "# Ensure the model is in evaluation mode\n",
    "model.eval()\n",
    "\n",
    "# Move the model to the appropriate device\n",
    "model.to(device)\n",
    "\n",
    "# Initialize variables to track accuracy\n",
    "total_correct = 0\n",
    "total_predictions = 0\n",
    "\n",
    "# Store true labels and predictions for F1 score calculation\n",
    "all_labels = []\n",
    "all_predictions = []\n",
    "\n",
    "# No gradient updates needed for evaluation\n",
    "with torch.no_grad():\n",
    "    for batch in test_loader:\n",
    "        # Move batch to the same device as the model\n",
    "        batch = {k: v.to(device) for k, v in batch.items()}\n",
    "\n",
    "        # Forward pass\n",
    "        outputs = model(**batch)\n",
    "\n",
    "        # Get predictions\n",
    "        logits = outputs.logits\n",
    "        predictions = torch.argmax(logits, dim=-1)\n",
    "\n",
    "        # Update tracking variables\n",
    "        total_correct += (predictions == batch['labels']).sum().item()\n",
    "        total_predictions += predictions.size(0)\n",
    "\n",
    "        # Store predictions and true labels\n",
    "        all_predictions.extend(predictions.cpu().numpy())\n",
    "        all_labels.extend(batch['labels'].cpu().numpy())\n",
    "\n",
    "# Calculate accuracy\n",
    "test_accuracy = total_correct / total_predictions\n",
    "print(f'Test Accuracy: {test_accuracy:.4f}')\n",
    "\n",
    "# Calculate F1 scores\n",
    "f1_weighted = f1_score(all_labels, all_predictions, average='weighted')\n",
    "f1_macro = f1_score(all_labels, all_predictions, average='macro')\n",
    "\n",
    "print(f'Weighted F1 Score: {f1_weighted:.4f}')\n",
    "print(f'Macro F1 Score: {f1_macro:.4f}')\n"
   ],
   "metadata": {
    "id": "76tHCf1AsUSF"
   },
   "execution_count": null,
   "outputs": []
  },
  {
   "cell_type": "code",
   "source": [
    "# Generate classification report\n",
    "report = classification_report(all_labels, all_predictions, digits=4)\n",
    "print(f'Classification Report for {modelname}, language {language.upper()}, Train {input.upper()}, Test {test.upper()}:')\n",
    "print(report)"
   ],
   "metadata": {
    "id": "zaGi_8TysW7u"
   },
   "execution_count": null,
   "outputs": []
  },
  {
   "cell_type": "code",
   "source": [],
   "metadata": {
    "id": "SPSOR-hLsXCx"
   },
   "execution_count": null,
   "outputs": []
  }
 ]
}
