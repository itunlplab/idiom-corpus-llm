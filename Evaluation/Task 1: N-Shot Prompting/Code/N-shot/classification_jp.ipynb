{
 "cells": [
  {
   "cell_type": "code",
   "execution_count": null,
   "metadata": {},
   "outputs": [],
   "source": [
    "import pandas as pd\n",
    "from openai import OpenAI\n",
    "import pickle\n",
    "import time\n",
    "from tqdm.notebook import tqdm"
   ]
  },
  {
   "cell_type": "code",
   "execution_count": null,
   "metadata": {},
   "outputs": [],
   "source": [
    "df_test = pd.read_csv('jp_test.csv',encoding='euc-jp')\n",
    "df_train = pd.read_csv('jp_train.csv',encoding='euc-jp')"
   ]
  },
  {
   "cell_type": "code",
   "execution_count": null,
   "metadata": {},
   "outputs": [],
   "source": [
    "df_test"
   ]
  },
  {
   "cell_type": "code",
   "execution_count": null,
   "metadata": {},
   "outputs": [],
   "source": [
    "idioms = df_test[\"submission\"].tolist()"
   ]
  },
  {
   "cell_type": "code",
   "execution_count": null,
   "metadata": {},
   "outputs": [],
   "source": [
    "client = OpenAI(api_key=\"\")"
   ]
  },
  {
   "cell_type": "code",
   "execution_count": null,
   "metadata": {},
   "outputs": [],
   "source": [
    "for t in tqdm(range(len(df_test))):  # Loop over the range of idioms\n",
    "    i = df_test['submission'].iloc[t]  # Access each idiom directly using the loop index\n",
    "\n",
    "    text = df_train[(df_train['category'] == 'literal') & (df_train['idiom'] == df_test['idiom'].iloc[t])].sample(1)['submission'].iloc[0]"
   ]
  },
  {
   "cell_type": "code",
   "execution_count": null,
   "outputs": [],
   "source": [
    "results = []\n",
    "for t in tqdm(range(len(df_test))):  # Loop over the range of idioms\n",
    "    i = df_test['submission'].iloc[t]  # Access each idiom directly using the loop index\n",
    "\n",
    "    literals = []\n",
    "    for m in range(3):\n",
    "        text = df_train[(df_train['category'] == 'literal') & (df_train['idiom'] == df_test['idiom'].iloc[t])].sample(1)['submission'].iloc[0]\n",
    "        literals.append(text)\n",
    "\n",
    "    figuratives = []\n",
    "    for m in range(3):\n",
    "        text = df_train[(df_train['category'] == 'figurative') & (df_train['idiom'] == df_test['idiom'].iloc[t])].sample(1)['submission'].iloc[0]\n",
    "        figuratives.append(text)\n",
    "\n",
    "    completion = client.chat.completions.create(\n",
    "        model=\"gpt-4-0125-preview\",\n",
    "        messages=[\n",
    "    {\"role\": \"system\", \"content\":\n",
    "        \"あなたの役割は日本語を話す言語モデルです。指示に従って答え、それ以外のことは書かないでください。\"\n",
    "    },\n",
    "    {\"role\": \"user\", \"content\":\n",
    "        \"以下の文に慣用句が含まれているかどうかを判断してください。もし含まれている場合は「1」と書いてください。含まれていない場合は「0」と書いてください。0または1以外のことは書かないでください。文:\\n\"\n",
    "        + literals[0] + \": 0\\n\" + literals[1] + \": 0\\n\" + literals[2] + \": 0\\n\"\n",
    "        + figuratives[0] + \": 1\\n\" + figuratives[1] + \": 1\\n\" + figuratives[2] + \": 1\\n\"\n",
    "        + i + \": ?\"\n",
    "    }\n",
    "    ]\n",
    "    )\n",
    "    print(completion.choices[0].message.content)\n",
    "\n",
    "    while completion.choices[0].message.content == \"?\" or len(completion.choices[0].message.content) > 1:\n",
    "        completion = client.chat.completions.create(\n",
    "        model=\"gpt-4-0125-preview\",\n",
    "        messages=[\n",
    "   {\"role\": \"system\", \"content\":\n",
    "        \"あなたの役割は日本語を話す言語モデルです。指示に従って答え、それ以外のことは書かないでください。\"\n",
    "    },\n",
    "    {\"role\": \"user\", \"content\":\n",
    "        \"以下の文に慣用句が含まれているかどうかを判断してください。もし含まれている場合は「1」と書いてください。含まれていない場合は「0」と書いてください。0または1以外のことは書かないでください。文:\\n\"\n",
    "        + literals[0] + \": 0\\n\" + literals[1] + \": 0\\n\" + literals[2] + \": 0\\n\"\n",
    "        + figuratives[0] + \": 1\\n\" + figuratives[1] + \": 1\\n\" + figuratives[2] + \": 1\\n\"\n",
    "        + i + \": ?\"\n",
    "    }\n",
    "    ]\n",
    "    )\n",
    "\n",
    "    results.append(completion)  # Append the result to the list"
   ],
   "metadata": {
    "collapsed": false
   }
  },
  {
   "cell_type": "code",
   "execution_count": null,
   "outputs": [],
   "source": [
    "df_test = df_test[6120:]"
   ],
   "metadata": {
    "collapsed": false
   }
  },
  {
   "cell_type": "code",
   "execution_count": null,
   "outputs": [],
   "source": [
    "df_test"
   ],
   "metadata": {
    "collapsed": false
   }
  },
  {
   "cell_type": "code",
   "execution_count": null,
   "outputs": [],
   "source": [
    "for t in tqdm(range(len(df_test))):  # Loop over the range of idioms\n",
    "    i = df_test['submission'].iloc[t]  # Access each idiom directly using the loop index\n",
    "\n",
    "    literals = []\n",
    "    for m in range(3):\n",
    "        text = df_train[(df_train['category'] == 'literal') & (df_train['idiom'] == df_test['idiom'].iloc[t])].sample(1)['submission'].iloc[0]\n",
    "        literals.append(text)\n",
    "\n",
    "    figuratives = []\n",
    "    for m in range(3):\n",
    "        text = df_train[(df_train['category'] == 'figurative') & (df_train['idiom'] == df_test['idiom'].iloc[t])].sample(1)['submission'].iloc[0]\n",
    "        figuratives.append(text)\n",
    "\n",
    "    completion = client.chat.completions.create(\n",
    "        model=\"gpt-4-0125-preview\",\n",
    "        messages=[\n",
    "    {\"role\": \"system\", \"content\":\n",
    "        \"あなたの役割は日本語を話す言語モデルです。指示に従って答え、それ以外のことは書かないでください。\"\n",
    "    },\n",
    "    {\"role\": \"user\", \"content\":\n",
    "        \"以下の文に慣用句が含まれているかどうかを判断してください。もし含まれている場合は「1」と書いてください。含まれていない場合は「0」と書いてください。0または1以外のことは書かないでください。文:\\n\"\n",
    "        + literals[0] + \": 0\\n\" + literals[1] + \": 0\\n\" + literals[2] + \": 0\\n\"\n",
    "        + figuratives[0] + \": 1\\n\" + figuratives[1] + \": 1\\n\" + figuratives[2] + \": 1\\n\"\n",
    "        + i + \": ?\"\n",
    "    }\n",
    "    ]\n",
    "    )\n",
    "    print(completion.choices[0].message.content)\n",
    "\n",
    "    while completion.choices[0].message.content == \"?\" or len(completion.choices[0].message.content) > 1:\n",
    "        completion = client.chat.completions.create(\n",
    "        model=\"gpt-4-0125-preview\",\n",
    "        messages=[\n",
    "   {\"role\": \"system\", \"content\":\n",
    "        \"あなたの役割は日本語を話す言語モデルです。指示に従って答え、それ以外のことは書かないでください。\"\n",
    "    },\n",
    "    {\"role\": \"user\", \"content\":\n",
    "        \"以下の文に慣用句が含まれているかどうかを判断してください。もし含まれている場合は「1」と書いてください。含まれていない場合は「0」と書いてください。0または1以外のことは書かないでください。文:\\n\"\n",
    "        + literals[0] + \": 0\\n\" + literals[1] + \": 0\\n\" + literals[2] + \": 0\\n\"\n",
    "        + figuratives[0] + \": 1\\n\" + figuratives[1] + \": 1\\n\" + figuratives[2] + \": 1\\n\"\n",
    "        + i + \": ?\"\n",
    "    }\n",
    "    ]\n",
    "    )\n",
    "\n",
    "    results.append(completion)  # Append the result to the list"
   ],
   "metadata": {
    "collapsed": false
   }
  },
  {
   "cell_type": "code",
   "execution_count": null,
   "metadata": {},
   "outputs": [],
   "source": [
    "len(results)"
   ]
  },
  {
   "cell_type": "code",
   "execution_count": null,
   "metadata": {},
   "outputs": [],
   "source": [
    "with open('gpt-4-turbo_1_jp.pkl', 'wb') as f:\n",
    "      pickle.dump(results, f)"
   ]
  },
  {
   "cell_type": "code",
   "execution_count": null,
   "metadata": {},
   "outputs": [],
   "source": [
    "labels = df_test[\"category\"].tolist()"
   ]
  },
  {
   "cell_type": "code",
   "execution_count": null,
   "outputs": [],
   "source": [
    "len(labels)"
   ],
   "metadata": {
    "collapsed": false
   }
  },
  {
   "cell_type": "code",
   "execution_count": null,
   "metadata": {},
   "outputs": [],
   "source": [
    "df = pd.DataFrame([i.choices[0].message.content for i in results])\n",
    "df.to_csv('results_gpt-4-turbo_jp.csv', index=False)"
   ]
  },
  {
   "cell_type": "code",
   "execution_count": null,
   "metadata": {},
   "outputs": [],
   "source": [
    "results"
   ]
  },
  {
   "cell_type": "code",
   "execution_count": null,
   "metadata": {},
   "outputs": [],
   "source": [
    "df"
   ]
  },
  {
   "cell_type": "code",
   "execution_count": null,
   "metadata": {},
   "outputs": [],
   "source": [
    "for i in [i for i, x in enumerate(df[0].tolist()) if x == \"1\\n\"]:\n",
    "    df[0][i] = \"1\""
   ]
  },
  {
   "cell_type": "code",
   "execution_count": null,
   "metadata": {},
   "outputs": [],
   "source": [
    "df"
   ]
  },
  {
   "cell_type": "code",
   "execution_count": null,
   "metadata": {},
   "outputs": [],
   "source": [
    "gpt_labels = [int(i) for i in df.iloc[:, 0].tolist()]\n"
   ]
  },
  {
   "cell_type": "code",
   "execution_count": null,
   "metadata": {},
   "outputs": [],
   "source": [
    "human_labels = [1 if i == \"figurative\" else 0 for i in labels[:len(gpt_labels)]]"
   ]
  },
  {
   "cell_type": "code",
   "execution_count": null,
   "metadata": {},
   "outputs": [],
   "source": [
    "gpt_labels"
   ]
  },
  {
   "cell_type": "code",
   "execution_count": null,
   "metadata": {},
   "outputs": [],
   "source": [
    "human_labels"
   ]
  },
  {
   "cell_type": "code",
   "execution_count": null,
   "metadata": {},
   "outputs": [],
   "source": [
    "from sklearn.metrics import classification_report\n",
    "\n",
    "# Generate the classification report\n",
    "report = classification_report(human_labels, gpt_labels)\n",
    "\n",
    "print(report)\n"
   ]
  },
  {
   "cell_type": "code",
   "execution_count": null,
   "metadata": {},
   "outputs": [],
   "source": [
    "from sklearn.metrics import classification_report\n",
    "\n",
    "# Generate the classification report\n",
    "report = classification_report(human_labels, gpt_labels, digits=4)\n",
    "\n",
    "print(report)\n"
   ]
  },
  {
   "cell_type": "code",
   "execution_count": null,
   "outputs": [],
   "source": [
    "# save the classification report\n",
    "with open('classification_report_gpt-4-turbo_jp.txt', 'w') as f:\n",
    "    f.write(report)"
   ],
   "metadata": {
    "collapsed": false
   }
  },
  {
   "cell_type": "code",
   "execution_count": null,
   "outputs": [],
   "source": [],
   "metadata": {
    "collapsed": false
   }
  }
 ],
 "metadata": {
  "kernelspec": {
   "display_name": "base",
   "language": "python",
   "name": "python3"
  },
  "language_info": {
   "codemirror_mode": {
    "name": "ipython",
    "version": 3
   },
   "file_extension": ".py",
   "mimetype": "text/x-python",
   "name": "python",
   "nbconvert_exporter": "python",
   "pygments_lexer": "ipython3",
   "version": "3.11.7"
  }
 },
 "nbformat": 4,
 "nbformat_minor": 2
}
